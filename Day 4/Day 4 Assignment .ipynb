{
 "cells": [
  {
   "cell_type": "markdown",
   "metadata": {},
   "source": [
    "Question 1 :\n",
    "Research on whether addition, subtraction, multiplication, division, floor division and modulo\n",
    "operations be performed on complex numbers. Based on your study, implement a Python\n",
    "program to demonstrate these operations."
   ]
  },
  {
   "cell_type": "code",
   "execution_count": 28,
   "metadata": {},
   "outputs": [
    {
     "name": "stdout",
     "output_type": "stream",
     "text": [
      "Addition of two complex numbers :  (7-4j)\n",
      "Subtraction of two complex numbers :  (1+10j)\n",
      "Multiplication of two complex numbers :  (33-19j)\n",
      "Division of two complex numbers :  (-0.15517241379310348+0.6379310344827587j)\n"
     ]
    }
   ],
   "source": [
    "import math\n",
    "print(\"Addition of two complex numbers : \",(4+3j)+(3-7j))\n",
    "print(\"Subtraction of two complex numbers : \",(4+3j)-(3-7j))\n",
    "print(\"Multiplication of two complex numbers : \",(4+3j)*(3-7j))\n",
    "print(\"Division of two complex numbers : \",(4+3j)/(3-7j))\n",
    "\n",
    "#from the research I found that we can't apply Modulo and floor function with complex Number.\n",
    "\n",
    "#print(\"Modulo of two complex numbers : \",(4+3j)%(3-7j)) #can't mod complex numbers.\n",
    "#print(\"floor of two complex numbers : \", math.floor(4+3j))"
   ]
  },
  {
   "cell_type": "markdown",
   "metadata": {},
   "source": [
    "Question 2 :\n",
    "\n",
    "Research on range() functions and its parameters. Create a markdown cell and write in your own\n",
    "words (no copy-paste from google please) what you understand about it. Implement a small\n",
    "program of your choice on the same.\n",
    "\n",
    "Range Function is used when we want to create a list or a set of range on number which have start and stop value. we want to get some numbers in range or we can say in a particular range. From example if we want to numbers from 1 to 10 one long method is to type every single number or sort method is by range function. It's makes our task easy and time worthy. Let's take an exmaple."
   ]
  },
  {
   "cell_type": "code",
   "execution_count": 8,
   "metadata": {},
   "outputs": [
    {
     "name": "stdout",
     "output_type": "stream",
     "text": [
      "10 11 12 13 14 15 16 17 18 19 20 21 22 23 24 25 26 27 28 29 "
     ]
    }
   ],
   "source": [
    "#let's imagine we want to a numbers from 10 to 40\n",
    "\n",
    "for i in range(10,30):\n",
    "    print(i,end=\" \")"
   ]
  },
  {
   "cell_type": "markdown",
   "metadata": {},
   "source": [
    "Question 3:\n",
    "\n",
    "Consider two numbers. Perform their subtraction and if the result of subtraction is greater than\n",
    "25, print their multiplication result else print their division result."
   ]
  },
  {
   "cell_type": "code",
   "execution_count": 11,
   "metadata": {},
   "outputs": [
    {
     "name": "stdout",
     "output_type": "stream",
     "text": [
      "Division of two number is 0.5\n"
     ]
    }
   ],
   "source": [
    "A= 10\n",
    "B=20\n",
    "\n",
    "Sub= B-A\n",
    "if (Sub>25): \n",
    "    print(\"Multiplication of two numbers in {}\".format(A*B))\n",
    "else:\n",
    "    print(\"Division of two number is {}\".format(A/B))"
   ]
  },
  {
   "cell_type": "code",
   "execution_count": 12,
   "metadata": {},
   "outputs": [
    {
     "name": "stdout",
     "output_type": "stream",
     "text": [
      "Enter the first number5\n",
      "Enter the Secound number2\n",
      "Division of two number is 2.5\n"
     ]
    }
   ],
   "source": [
    "#by taking input fron user\n",
    "\n",
    "a= int(input(\"Enter the first number\"))\n",
    "b=int(input(\"Enter the Secound number\"))\n",
    "\n",
    "sub= a-b\n",
    "if (sub>25): \n",
    "    print(\"Multiplication of two numbers in {}\".format(a*b))\n",
    "else:\n",
    "    print(\"Division of two number is {}\".format(a/b))\n"
   ]
  },
  {
   "cell_type": "markdown",
   "metadata": {},
   "source": [
    "Question 4:\n",
    "\n",
    "Consider a list of 10 elements of integer values. If the number in the list is divisible by 2, print the\n",
    "result as \"square of that number minus 2\"."
   ]
  },
  {
   "cell_type": "code",
   "execution_count": 18,
   "metadata": {},
   "outputs": [
    {
     "name": "stdout",
     "output_type": "stream",
     "text": [
      "Result 98.0\n",
      "Result 142.0\n",
      "Result 194.0\n",
      "Result 254.0\n",
      "Result 322.0\n",
      "Result 398.0\n"
     ]
    }
   ],
   "source": [
    "import math\n",
    "for i in range(10,21): #10 numbers\n",
    "    if (i%2==0): \n",
    "        res= (math.pow(i,2))-2\n",
    "        print(\"Result\",res)"
   ]
  },
  {
   "cell_type": "markdown",
   "metadata": {},
   "source": [
    "Question 5\n",
    ":\n",
    "Consider a list of 10 elements. Print all the elements in the list which are greater than 7 when that\n",
    "number is divided 2."
   ]
  },
  {
   "cell_type": "code",
   "execution_count": 20,
   "metadata": {},
   "outputs": [
    {
     "name": "stdout",
     "output_type": "stream",
     "text": [
      "8\n",
      "10\n",
      "12\n",
      "14\n"
     ]
    }
   ],
   "source": [
    "for i in range(1,15):\n",
    "    if (i%2==0):\n",
    "        if (i>7):\n",
    "            print(i)"
   ]
  },
  {
   "cell_type": "markdown",
   "metadata": {},
   "source": [
    "END_____________________"
   ]
  }
 ],
 "metadata": {
  "kernelspec": {
   "display_name": "Python 3",
   "language": "python",
   "name": "python3"
  },
  "language_info": {
   "codemirror_mode": {
    "name": "ipython",
    "version": 3
   },
   "file_extension": ".py",
   "mimetype": "text/x-python",
   "name": "python",
   "nbconvert_exporter": "python",
   "pygments_lexer": "ipython3",
   "version": "3.7.8"
  }
 },
 "nbformat": 4,
 "nbformat_minor": 4
}
