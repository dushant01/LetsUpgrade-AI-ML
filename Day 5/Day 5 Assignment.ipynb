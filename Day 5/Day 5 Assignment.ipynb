{
 "cells": [
  {
   "cell_type": "markdown",
   "metadata": {
    "heading_collapsed": true
   },
   "source": [
    "# Question 1 :\n",
    "Write a Python program to find the first 20 non-even prime natural numbers."
   ]
  },
  {
   "cell_type": "code",
   "execution_count": 9,
   "metadata": {
    "hidden": true
   },
   "outputs": [
    {
     "name": "stdout",
     "output_type": "stream",
     "text": [
      "First 20 non-even prime numbers  are:\n",
      "2 3 5 7 11 13 17 19 23 29 31 37 41 43 47 53 59 61 67 71 73 79 83 89 97 "
     ]
    }
   ],
   "source": [
    "# Function to print first N prime numbers \n",
    "def print_first_N_primes(N): \n",
    "  \n",
    "    # Declare the variables \n",
    "    i, j, flag = 0, 0, 0; \n",
    "  \n",
    "    # Print display message \n",
    "    print(\"First 20 non-even prime numbers\",  \" are:\"); \n",
    "  \n",
    "    # Traverse each number from 1 to N \n",
    "    # with the help of for loop \n",
    "    for i in range(1, N + 1, 1): \n",
    "  \n",
    "        # Skip 0 and 1 as they are \n",
    "        # niether prime nor composite \n",
    "        if (i == 1 or i == 0): \n",
    "            continue; \n",
    "  \n",
    "        # flag variable to tell \n",
    "        # if i is prime or not \n",
    "        flag = 1; \n",
    "  \n",
    "        for j in range(2, ((i // 2) + 1), 1): \n",
    "            if (i % j == 0): \n",
    "                flag = 0; \n",
    "                break; \n",
    "  \n",
    "        # flag = 1 means i is prime \n",
    "        # and flag = 0 means i is not prime \n",
    "        if (flag == 1): \n",
    "            print(i, end = \" \"); \n",
    "  \n",
    "# Driver code \n",
    "N = 100\n",
    "print_first_N_primes(N);   "
   ]
  },
  {
   "cell_type": "markdown",
   "metadata": {},
   "source": [
    "# Question 2\n",
    "Question 2 :\n",
    "Write a Python program to implement 15 functions of string."
   ]
  },
  {
   "cell_type": "code",
   "execution_count": 80,
   "metadata": {},
   "outputs": [
    {
     "name": "stdout",
     "output_type": "stream",
     "text": [
      "Strip functon used to remove or trim white spaces  DushantKumar\n",
      "\n",
      " Convert the whole string into lower letters dushantkumar\n",
      "\n",
      " Is there any numberic value is string False\n",
      "\n",
      " Find h is s and its present in this location 3\n",
      "\n",
      " UushantKumar\n",
      "\n",
      " Split the string from h  ['Dus', 'antKumar']\n",
      "\n",
      " Count how many d is present in s 1\n",
      "\n",
      " Convert the whole string in capital  DUSHANTKUMAR\n",
      "\n",
      " Is there any digit present in string  False\n",
      "\n",
      " Is string starts with D  True\n",
      "\n",
      " Is string we defined end with d ?  False\n",
      "\n",
      " Length of the string  12\n",
      "\n",
      " print captilized version of string Dushantkumar\n"
     ]
    }
   ],
   "source": [
    "#15 function of string\n",
    "\n",
    "s= 'DushantKumar'\n",
    "\n",
    "print(\"Strip functon used to remove or trim white spaces \",s.strip()) #Used to trim whitespaces from the string object.\n",
    "print('\\n',end=\" \")\n",
    "print(\"Convert the whole string into lower letters\",s.lower()) #it will convert the whole str in lower case\n",
    "print('\\n',end=\" \")\n",
    "print(\"Is there any numberic value is string\", s.isnumeric())\n",
    "print('\\n',end=\" \")\n",
    "print(\"Find h is s and its present in this location\", s.find('h')) #it will check the or find the loc or index of a letter we want to search\n",
    "print('\\n',end=\" \")\n",
    "print(s.replace('D','U'))# replace() function is used to create a new string by replacing some parts of another string.\n",
    "print('\\n',end=\" \")\n",
    "print(\"Split the string from h \" ,s.split('h')) #it will spilt the string by a particular postion\n",
    "print('\\n',end=\" \")\n",
    "print(\"Count how many d is present in s\", s.count('Dush')) #basically it will count the words or letters in a string\n",
    "print('\\n',end=\" \")\n",
    "print(\"Convert the whole string in capital \",s.upper(),end=\"\\n\") #Converting all letters to upper case\n",
    "print('\\n',end=\" \")\n",
    "print(\"Is there any digit present in string \",s.isdigit(),end=\"\\n\") #checking wheather the string is digit or not\n",
    "print('\\n',end=\" \")\n",
    "print(\"Is string starts with D \",s.startswith('D')) #startswith() function returns True if the string starts with the given prefix, otherwise it returns False.\n",
    "print('\\n',end=\" \")\n",
    "print(\"Is string we defined end with d ? \",s.endswith('d')) #endswith() function returns True if the string ends with the given suffix, otherwise it returns False\n",
    "print('\\n',end=\" \")\n",
    "print(\"Length of the string \", len(s)) \n",
    "print('\\n',end=\" \")\n",
    "print(\"print captilized version of string\", s.capitalize()) #capitalize() function returns the capitalized version of the string."
   ]
  },
  {
   "cell_type": "code",
   "execution_count": null,
   "metadata": {},
   "outputs": [],
   "source": []
  },
  {
   "cell_type": "code",
   "execution_count": null,
   "metadata": {},
   "outputs": [],
   "source": []
  },
  {
   "cell_type": "markdown",
   "metadata": {},
   "source": [
    "# Question 3\n",
    "Question 3:\n",
    "Write a Python program to check if the given string is a Palindrome or Anagram or None of them.\n",
    "Display the message accordingly to the user.\n"
   ]
  },
  {
   "cell_type": "code",
   "execution_count": 99,
   "metadata": {},
   "outputs": [
    {
     "name": "stdout",
     "output_type": "stream",
     "text": [
      "Enter the stringmadam\n",
      "The string a palindrome\n"
     ]
    }
   ],
   "source": [
    "#weather string is Palindrome\n",
    "string = input(\"Enter the string\")\n",
    "if(string == string[::-1]):\n",
    "    print(\"The string a palindrome\")\n",
    "else:\n",
    "    print(\"The string is not a palindrome\")\n"
   ]
  },
  {
   "cell_type": "code",
   "execution_count": 101,
   "metadata": {},
   "outputs": [
    {
     "name": "stdout",
     "output_type": "stream",
     "text": [
      "Enter first string:abc\n",
      "Enter second string:cba\n",
      "The strings are anagrams.\n"
     ]
    }
   ],
   "source": [
    "#Anagram\n",
    "s1=input(\"Enter first string:\")\n",
    "s2=input(\"Enter second string:\")\n",
    "if(sorted(s1)==sorted(s2)):\n",
    "      print(\"The strings are anagrams.\")\n",
    "else:\n",
    "      print(\"The strings aren't anagrams.\")"
   ]
  },
  {
   "cell_type": "markdown",
   "metadata": {},
   "source": [
    "# Question 4\n",
    "Write a Python's user defined function that removes all the additional characters from the string\n",
    "and converts it finally to lower case using built-in lower(). eg: If the string is \"Dr. Darshan Ingle\n",
    "@AI-ML Trainer\", then the output be \"drdarshaningleaimltrainer\"."
   ]
  },
  {
   "cell_type": "code",
   "execution_count": 152,
   "metadata": {},
   "outputs": [
    {
     "name": "stdout",
     "output_type": "stream",
     "text": [
      "Enter the string DUSHANT&# Kumar\n",
      "dushantkumar\n"
     ]
    }
   ],
   "source": [
    "sb= input(\"Enter the string \")\n",
    "bad = [';', ':', '!', \"*\",'@','#','&','.'] \n",
    "def rem(sb):\n",
    "    for i in bad : \n",
    "        sb = sb.replace(i, ' ')\n",
    "        sb= sb.replace(\" \",\"\")\n",
    "    sb= sb.lower()\n",
    "    sb= sb.strip()\n",
    "    print(sb)\n",
    "rem(sb)"
   ]
  },
  {
   "cell_type": "code",
   "execution_count": null,
   "metadata": {},
   "outputs": [],
   "source": [
    "END"
   ]
  },
  {
   "cell_type": "code",
   "execution_count": null,
   "metadata": {},
   "outputs": [],
   "source": []
  }
 ],
 "metadata": {
  "kernelspec": {
   "display_name": "Python 3",
   "language": "python",
   "name": "python3"
  },
  "language_info": {
   "codemirror_mode": {
    "name": "ipython",
    "version": 3
   },
   "file_extension": ".py",
   "mimetype": "text/x-python",
   "name": "python",
   "nbconvert_exporter": "python",
   "pygments_lexer": "ipython3",
   "version": "3.7.8"
  },
  "toc": {
   "base_numbering": "0",
   "nav_menu": {},
   "number_sections": false,
   "sideBar": true,
   "skip_h1_title": false,
   "title_cell": "Table of Contents",
   "title_sidebar": "Contents",
   "toc_cell": false,
   "toc_position": {},
   "toc_section_display": true,
   "toc_window_display": false
  }
 },
 "nbformat": 4,
 "nbformat_minor": 4
}
