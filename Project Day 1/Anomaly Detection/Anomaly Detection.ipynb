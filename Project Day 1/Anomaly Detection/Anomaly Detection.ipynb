{
 "cells": [
  {
   "cell_type": "code",
   "execution_count": 2,
   "metadata": {},
   "outputs": [],
   "source": [
    "import numpy as np\n",
    "import pandas as pd \n",
    "import os\n",
    "import sys\n",
    "\n",
    "from sklearn.model_selection import train_test_split\n",
    "from scipy.io import loadmat\n"
   ]
  },
  {
   "cell_type": "code",
   "execution_count": 3,
   "metadata": {},
   "outputs": [
    {
     "name": "stderr",
     "output_type": "stream",
     "text": [
      "C:\\Users\\HP\\anaconda3\\lib\\site-packages\\sklearn\\utils\\deprecation.py:143: FutureWarning: The sklearn.utils.testing module is  deprecated in version 0.22 and will be removed in version 0.24. The corresponding classes / functions should instead be imported from sklearn.utils. Anything that cannot be imported from sklearn.utils is now part of the private API.\n",
      "  warnings.warn(message, FutureWarning)\n"
     ]
    }
   ],
   "source": [
    "#import Pyod\n",
    "from pyod.models.pca import PCA\n",
    "from pyod.models.mcd import MCD\n",
    "from pyod.models.ocsvm import OCSVM\n",
    "from pyod.models.lof import LOF\n",
    "from pyod.models.cblof import CBLOF\n",
    "from pyod.models.knn import KNN\n",
    "from pyod.models.hbos import HBOS\n",
    "from pyod.models.abod import ABOD\n",
    "from pyod.models.iforest import IForest\n",
    "from pyod.models.feature_bagging import FeatureBagging"
   ]
  },
  {
   "cell_type": "code",
   "execution_count": 4,
   "metadata": {},
   "outputs": [],
   "source": [
    "#Import metrics Packages\n",
    "from pyod.utils.utility import standardizer\n",
    "from pyod.utils.utility import precision_n_scores\n",
    "from sklearn.metrics import roc_auc_score"
   ]
  },
  {
   "cell_type": "code",
   "execution_count": 5,
   "metadata": {},
   "outputs": [],
   "source": [
    "#load the file\n",
    "mat_list = [\"arrhythmia.mat\",\n",
    "           \"cardio.mat\",\n",
    "           \"glass.mat\",\n",
    "           \"ionosphere.mat\",\n",
    "           \"letter.mat\",\n",
    "           \"lympho.mat\",\n",
    "           \"mnist.mat\",\"musk.mat\",\"optdigits.mat\",\"pendigits.mat\",\"pima.mat\",\"satellite.mat\",\"satimage-2.mat\",\n",
    "            \"shuttle.mat\",\"vertebral.mat\",\"vowels.mat\",\"wbc.mat\"]"
   ]
  },
  {
   "cell_type": "code",
   "execution_count": 6,
   "metadata": {},
   "outputs": [
    {
     "data": {
      "text/plain": [
       "{'__header__': b'MATLAB 5.0 MAT-file, written by Octave 3.8.0, 2014-12-18 10:48:09 UTC',\n",
       " '__version__': '1.0',\n",
       " '__globals__': [],\n",
       " 'X': array([[ 0.00491231,  0.69319077, -0.20364049, ...,  0.23149795,\n",
       "         -0.28978574, -0.49329397],\n",
       "        [ 0.11072935, -0.07990259, -0.20364049, ...,  0.09356344,\n",
       "         -0.25638541, -0.49329397],\n",
       "        [ 0.21654639, -0.27244466, -0.20364049, ...,  0.02459619,\n",
       "         -0.25638541,  1.14001753],\n",
       "        ...,\n",
       "        [-0.41835583, -0.91998844, -0.16463485, ..., -1.49268341,\n",
       "          0.24461959, -0.49329397],\n",
       "        [-0.41835583, -0.91998844, -0.15093411, ..., -1.42371616,\n",
       "          0.14441859, -0.49329397],\n",
       "        [-0.41835583, -0.91998844, -0.20364049, ..., -1.28578165,\n",
       "          3.58465295, -0.49329397]]),\n",
       " 'y': array([[0.],\n",
       "        [0.],\n",
       "        [0.],\n",
       "        ...,\n",
       "        [1.],\n",
       "        [1.],\n",
       "        [1.]])}"
      ]
     },
     "execution_count": 6,
     "metadata": {},
     "output_type": "execute_result"
    }
   ],
   "source": [
    "Data = loadmat(\"cardio.mat\")\n",
    "Data"
   ]
  },
  {
   "cell_type": "code",
   "execution_count": 7,
   "metadata": {},
   "outputs": [
    {
     "data": {
      "text/plain": [
       "5"
      ]
     },
     "execution_count": 7,
     "metadata": {},
     "output_type": "execute_result"
    }
   ],
   "source": [
    "len(Data)"
   ]
  },
  {
   "cell_type": "code",
   "execution_count": 8,
   "metadata": {},
   "outputs": [
    {
     "data": {
      "text/plain": [
       "dict_keys(['__header__', '__version__', '__globals__', 'X', 'y'])"
      ]
     },
     "execution_count": 8,
     "metadata": {},
     "output_type": "execute_result"
    }
   ],
   "source": [
    "Data.keys()"
   ]
  },
  {
   "cell_type": "code",
   "execution_count": 9,
   "metadata": {},
   "outputs": [
    {
     "data": {
      "text/plain": [
       "(1831, 21)"
      ]
     },
     "execution_count": 9,
     "metadata": {},
     "output_type": "execute_result"
    }
   ],
   "source": [
    "Data[\"X\"].shape"
   ]
  },
  {
   "cell_type": "code",
   "execution_count": 10,
   "metadata": {},
   "outputs": [],
   "source": [
    "df_columns = [\"Data\",\"#samples\",\"#Dimension\",\"Outlier Perc\", \"ABOD\",\"CBLOF\",\"FB\",\"HBOS\", \"IForest\", \"KNN\", \"LOF\", \"MCD\",\n",
    "              \"OCSVM\", \" PCA\"]"
   ]
  },
  {
   "cell_type": "code",
   "execution_count": 11,
   "metadata": {},
   "outputs": [],
   "source": [
    "roc_df = pd.DataFrame(columns=df_columns)\n",
    "pre_df = pd.DataFrame(columns=df_columns)\n",
    "time_df = pd.DataFrame(columns=df_columns)"
   ]
  },
  {
   "cell_type": "code",
   "execution_count": 12,
   "metadata": {},
   "outputs": [
    {
     "data": {
      "text/html": [
       "<div>\n",
       "<style scoped>\n",
       "    .dataframe tbody tr th:only-of-type {\n",
       "        vertical-align: middle;\n",
       "    }\n",
       "\n",
       "    .dataframe tbody tr th {\n",
       "        vertical-align: top;\n",
       "    }\n",
       "\n",
       "    .dataframe thead th {\n",
       "        text-align: right;\n",
       "    }\n",
       "</style>\n",
       "<table border=\"1\" class=\"dataframe\">\n",
       "  <thead>\n",
       "    <tr style=\"text-align: right;\">\n",
       "      <th></th>\n",
       "      <th>Data</th>\n",
       "      <th>#samples</th>\n",
       "      <th>#Dimension</th>\n",
       "      <th>Outlier Perc</th>\n",
       "      <th>ABOD</th>\n",
       "      <th>CBLOF</th>\n",
       "      <th>FB</th>\n",
       "      <th>HBOS</th>\n",
       "      <th>IForest</th>\n",
       "      <th>KNN</th>\n",
       "      <th>LOF</th>\n",
       "      <th>MCD</th>\n",
       "      <th>OCSVM</th>\n",
       "      <th>PCA</th>\n",
       "    </tr>\n",
       "  </thead>\n",
       "  <tbody>\n",
       "  </tbody>\n",
       "</table>\n",
       "</div>"
      ],
      "text/plain": [
       "Empty DataFrame\n",
       "Columns: [Data, #samples, #Dimension, Outlier Perc, ABOD, CBLOF, FB, HBOS, IForest, KNN, LOF, MCD, OCSVM,  PCA]\n",
       "Index: []"
      ]
     },
     "execution_count": 12,
     "metadata": {},
     "output_type": "execute_result"
    }
   ],
   "source": [
    "roc_df"
   ]
  },
  {
   "cell_type": "code",
   "execution_count": 46,
   "metadata": {},
   "outputs": [
    {
     "name": "stdout",
     "output_type": "stream",
     "text": [
      "\n",
      " ..... Processing... arrhythmia.mat ....\n"
     ]
    },
    {
     "name": "stderr",
     "output_type": "stream",
     "text": [
      "C:\\Users\\HP\\anaconda3\\lib\\site-packages\\sklearn\\cluster\\_kmeans.py:973: FutureWarning: 'n_jobs' was deprecated in version 0.23 and will be removed in 0.25.\n",
      "  warnings.warn(\"'n_jobs' was deprecated in version 0.23 and will be\"\n",
      "C:\\Users\\HP\\anaconda3\\lib\\site-packages\\sklearn\\covariance\\_robust_covariance.py:647: UserWarning: The covariance matrix associated to your dataset is not full rank\n",
      "  warnings.warn(\"The covariance matrix associated to your dataset \"\n"
     ]
    },
    {
     "name": "stdout",
     "output_type": "stream",
     "text": [
      "\n",
      " ..... Processing... cardio.mat ....\n"
     ]
    },
    {
     "name": "stderr",
     "output_type": "stream",
     "text": [
      "C:\\Users\\HP\\anaconda3\\lib\\site-packages\\sklearn\\cluster\\_kmeans.py:973: FutureWarning: 'n_jobs' was deprecated in version 0.23 and will be removed in 0.25.\n",
      "  warnings.warn(\"'n_jobs' was deprecated in version 0.23 and will be\"\n",
      "C:\\Users\\HP\\anaconda3\\lib\\site-packages\\sklearn\\covariance\\_robust_covariance.py:647: UserWarning: The covariance matrix associated to your dataset is not full rank\n",
      "  warnings.warn(\"The covariance matrix associated to your dataset \"\n",
      "C:\\Users\\HP\\anaconda3\\lib\\site-packages\\sklearn\\covariance\\_robust_covariance.py:166: RuntimeWarning: Determinant has increased; this should not happen: log(det) > log(previous_det) (-153.982934914487799 > -226.256783899522617). You may want to try with a higher value of support_fraction (current value: 0.511).\n",
      "  warnings.warn(\"Determinant has increased; this should not happen: \"\n",
      "C:\\Users\\HP\\anaconda3\\lib\\site-packages\\sklearn\\covariance\\_robust_covariance.py:166: RuntimeWarning: Determinant has increased; this should not happen: log(det) > log(previous_det) (-154.681929548668961 > -226.430820363033831). You may want to try with a higher value of support_fraction (current value: 0.511).\n",
      "  warnings.warn(\"Determinant has increased; this should not happen: \"\n",
      "C:\\Users\\HP\\anaconda3\\lib\\site-packages\\sklearn\\covariance\\_robust_covariance.py:166: RuntimeWarning: Determinant has increased; this should not happen: log(det) > log(previous_det) (-155.725802362800238 > -226.752665686715858). You may want to try with a higher value of support_fraction (current value: 0.511).\n",
      "  warnings.warn(\"Determinant has increased; this should not happen: \"\n",
      "C:\\Users\\HP\\anaconda3\\lib\\site-packages\\sklearn\\covariance\\_robust_covariance.py:166: RuntimeWarning: Determinant has increased; this should not happen: log(det) > log(previous_det) (-154.028100832365794 > -226.499154879208817). You may want to try with a higher value of support_fraction (current value: 0.511).\n",
      "  warnings.warn(\"Determinant has increased; this should not happen: \"\n",
      "C:\\Users\\HP\\anaconda3\\lib\\site-packages\\sklearn\\covariance\\_robust_covariance.py:166: RuntimeWarning: Determinant has increased; this should not happen: log(det) > log(previous_det) (-155.642534417951737 > -227.135292824493490). You may want to try with a higher value of support_fraction (current value: 0.511).\n",
      "  warnings.warn(\"Determinant has increased; this should not happen: \"\n",
      "C:\\Users\\HP\\anaconda3\\lib\\site-packages\\sklearn\\covariance\\_robust_covariance.py:166: RuntimeWarning: Determinant has increased; this should not happen: log(det) > log(previous_det) (-152.446303455804241 > -219.796078565456355). You may want to try with a higher value of support_fraction (current value: 0.510).\n",
      "  warnings.warn(\"Determinant has increased; this should not happen: \"\n",
      "C:\\Users\\HP\\anaconda3\\lib\\site-packages\\sklearn\\covariance\\_robust_covariance.py:166: RuntimeWarning: Determinant has increased; this should not happen: log(det) > log(previous_det) (-152.846784614010630 > -220.101715116579612). You may want to try with a higher value of support_fraction (current value: 0.510).\n",
      "  warnings.warn(\"Determinant has increased; this should not happen: \"\n",
      "C:\\Users\\HP\\anaconda3\\lib\\site-packages\\sklearn\\covariance\\_robust_covariance.py:166: RuntimeWarning: Determinant has increased; this should not happen: log(det) > log(previous_det) (-223.290143089766616 > -226.987602308218641). You may want to try with a higher value of support_fraction (current value: 0.510).\n",
      "  warnings.warn(\"Determinant has increased; this should not happen: \"\n",
      "C:\\Users\\HP\\anaconda3\\lib\\site-packages\\sklearn\\covariance\\_robust_covariance.py:166: RuntimeWarning: Determinant has increased; this should not happen: log(det) > log(previous_det) (-226.074098957766807 > -226.618393125192540). You may want to try with a higher value of support_fraction (current value: 0.510).\n",
      "  warnings.warn(\"Determinant has increased; this should not happen: \"\n"
     ]
    },
    {
     "name": "stdout",
     "output_type": "stream",
     "text": [
      "\n",
      " ..... Processing... glass.mat ....\n"
     ]
    },
    {
     "name": "stderr",
     "output_type": "stream",
     "text": [
      "C:\\Users\\HP\\anaconda3\\lib\\site-packages\\sklearn\\cluster\\_kmeans.py:973: FutureWarning: 'n_jobs' was deprecated in version 0.23 and will be removed in 0.25.\n",
      "  warnings.warn(\"'n_jobs' was deprecated in version 0.23 and will be\"\n",
      "C:\\Users\\HP\\anaconda3\\lib\\site-packages\\sklearn\\covariance\\_robust_covariance.py:166: RuntimeWarning: Determinant has increased; this should not happen: log(det) > log(previous_det) (-29.456973809953055 > -93.264867512175556). You may want to try with a higher value of support_fraction (current value: 0.539).\n",
      "  warnings.warn(\"Determinant has increased; this should not happen: \"\n",
      "C:\\Users\\HP\\anaconda3\\lib\\site-packages\\sklearn\\covariance\\_robust_covariance.py:166: RuntimeWarning: Determinant has increased; this should not happen: log(det) > log(previous_det) (-29.537884733666839 > -93.303896447144169). You may want to try with a higher value of support_fraction (current value: 0.539).\n",
      "  warnings.warn(\"Determinant has increased; this should not happen: \"\n",
      "C:\\Users\\HP\\anaconda3\\lib\\site-packages\\sklearn\\covariance\\_robust_covariance.py:166: RuntimeWarning: Determinant has increased; this should not happen: log(det) > log(previous_det) (-29.456973809953055 > -93.290201669515980). You may want to try with a higher value of support_fraction (current value: 0.539).\n",
      "  warnings.warn(\"Determinant has increased; this should not happen: \"\n",
      "C:\\Users\\HP\\anaconda3\\lib\\site-packages\\sklearn\\covariance\\_robust_covariance.py:166: RuntimeWarning: Determinant has increased; this should not happen: log(det) > log(previous_det) (-29.382381110533391 > -93.186741282438433). You may want to try with a higher value of support_fraction (current value: 0.539).\n",
      "  warnings.warn(\"Determinant has increased; this should not happen: \"\n",
      "C:\\Users\\HP\\anaconda3\\lib\\site-packages\\sklearn\\covariance\\_robust_covariance.py:166: RuntimeWarning: Determinant has increased; this should not happen: log(det) > log(previous_det) (-29.696812360337617 > -93.265586577476583). You may want to try with a higher value of support_fraction (current value: 0.539).\n",
      "  warnings.warn(\"Determinant has increased; this should not happen: \"\n",
      "C:\\Users\\HP\\anaconda3\\lib\\site-packages\\sklearn\\covariance\\_robust_covariance.py:166: RuntimeWarning: Determinant has increased; this should not happen: log(det) > log(previous_det) (-29.464647391380179 > -93.198137100014492). You may want to try with a higher value of support_fraction (current value: 0.539).\n",
      "  warnings.warn(\"Determinant has increased; this should not happen: \"\n",
      "C:\\Users\\HP\\anaconda3\\lib\\site-packages\\sklearn\\covariance\\_robust_covariance.py:166: RuntimeWarning: Determinant has increased; this should not happen: log(det) > log(previous_det) (-29.398015368206242 > -93.145019707720905). You may want to try with a higher value of support_fraction (current value: 0.539).\n",
      "  warnings.warn(\"Determinant has increased; this should not happen: \"\n",
      "C:\\Users\\HP\\anaconda3\\lib\\site-packages\\sklearn\\covariance\\_robust_covariance.py:166: RuntimeWarning: Determinant has increased; this should not happen: log(det) > log(previous_det) (-29.412252715205589 > -93.206248735002646). You may want to try with a higher value of support_fraction (current value: 0.539).\n",
      "  warnings.warn(\"Determinant has increased; this should not happen: \"\n",
      "C:\\Users\\HP\\anaconda3\\lib\\site-packages\\sklearn\\cluster\\_kmeans.py:973: FutureWarning: 'n_jobs' was deprecated in version 0.23 and will be removed in 0.25.\n",
      "  warnings.warn(\"'n_jobs' was deprecated in version 0.23 and will be\"\n"
     ]
    },
    {
     "name": "stdout",
     "output_type": "stream",
     "text": [
      "\n",
      " ..... Processing... ionosphere.mat ....\n",
      "\n",
      " ..... Processing... letter.mat ....\n"
     ]
    },
    {
     "name": "stderr",
     "output_type": "stream",
     "text": [
      "C:\\Users\\HP\\anaconda3\\lib\\site-packages\\sklearn\\cluster\\_kmeans.py:973: FutureWarning: 'n_jobs' was deprecated in version 0.23 and will be removed in 0.25.\n",
      "  warnings.warn(\"'n_jobs' was deprecated in version 0.23 and will be\"\n"
     ]
    },
    {
     "name": "stdout",
     "output_type": "stream",
     "text": [
      "\n",
      " ..... Processing... lympho.mat ....\n"
     ]
    },
    {
     "name": "stderr",
     "output_type": "stream",
     "text": [
      "C:\\Users\\HP\\anaconda3\\lib\\site-packages\\sklearn\\cluster\\_kmeans.py:973: FutureWarning: 'n_jobs' was deprecated in version 0.23 and will be removed in 0.25.\n",
      "  warnings.warn(\"'n_jobs' was deprecated in version 0.23 and will be\"\n",
      "C:\\Users\\HP\\anaconda3\\lib\\site-packages\\sklearn\\covariance\\_robust_covariance.py:166: RuntimeWarning: Determinant has increased; this should not happen: log(det) > log(previous_det) (-192.742292063076775 > -334.815431585407680). You may want to try with a higher value of support_fraction (current value: 0.614).\n",
      "  warnings.warn(\"Determinant has increased; this should not happen: \"\n"
     ]
    },
    {
     "name": "stdout",
     "output_type": "stream",
     "text": [
      "\n",
      " ..... Processing... mnist.mat ....\n"
     ]
    },
    {
     "name": "stderr",
     "output_type": "stream",
     "text": [
      "C:\\Users\\HP\\anaconda3\\lib\\site-packages\\sklearn\\cluster\\_kmeans.py:973: FutureWarning: 'n_jobs' was deprecated in version 0.23 and will be removed in 0.25.\n",
      "  warnings.warn(\"'n_jobs' was deprecated in version 0.23 and will be\"\n",
      "C:\\Users\\HP\\anaconda3\\lib\\site-packages\\sklearn\\covariance\\_robust_covariance.py:647: UserWarning: The covariance matrix associated to your dataset is not full rank\n",
      "  warnings.warn(\"The covariance matrix associated to your dataset \"\n"
     ]
    },
    {
     "name": "stdout",
     "output_type": "stream",
     "text": [
      "\n",
      " ..... Processing... musk.mat ....\n"
     ]
    },
    {
     "name": "stderr",
     "output_type": "stream",
     "text": [
      "C:\\Users\\HP\\anaconda3\\lib\\site-packages\\sklearn\\cluster\\_kmeans.py:973: FutureWarning: 'n_jobs' was deprecated in version 0.23 and will be removed in 0.25.\n",
      "  warnings.warn(\"'n_jobs' was deprecated in version 0.23 and will be\"\n"
     ]
    },
    {
     "name": "stdout",
     "output_type": "stream",
     "text": [
      "\n",
      " ..... Processing... optdigits.mat ....\n"
     ]
    },
    {
     "name": "stderr",
     "output_type": "stream",
     "text": [
      "C:\\Users\\HP\\anaconda3\\lib\\site-packages\\sklearn\\cluster\\_kmeans.py:973: FutureWarning: 'n_jobs' was deprecated in version 0.23 and will be removed in 0.25.\n",
      "  warnings.warn(\"'n_jobs' was deprecated in version 0.23 and will be\"\n",
      "C:\\Users\\HP\\anaconda3\\lib\\site-packages\\sklearn\\covariance\\_robust_covariance.py:647: UserWarning: The covariance matrix associated to your dataset is not full rank\n",
      "  warnings.warn(\"The covariance matrix associated to your dataset \"\n"
     ]
    },
    {
     "name": "stdout",
     "output_type": "stream",
     "text": [
      "\n",
      " ..... Processing... pendigits.mat ....\n"
     ]
    },
    {
     "name": "stderr",
     "output_type": "stream",
     "text": [
      "C:\\Users\\HP\\anaconda3\\lib\\site-packages\\sklearn\\cluster\\_kmeans.py:973: FutureWarning: 'n_jobs' was deprecated in version 0.23 and will be removed in 0.25.\n",
      "  warnings.warn(\"'n_jobs' was deprecated in version 0.23 and will be\"\n"
     ]
    },
    {
     "name": "stdout",
     "output_type": "stream",
     "text": [
      "\n",
      " ..... Processing... pima.mat ....\n"
     ]
    },
    {
     "name": "stderr",
     "output_type": "stream",
     "text": [
      "C:\\Users\\HP\\anaconda3\\lib\\site-packages\\sklearn\\cluster\\_kmeans.py:973: FutureWarning: 'n_jobs' was deprecated in version 0.23 and will be removed in 0.25.\n",
      "  warnings.warn(\"'n_jobs' was deprecated in version 0.23 and will be\"\n"
     ]
    },
    {
     "name": "stdout",
     "output_type": "stream",
     "text": [
      "\n",
      " ..... Processing... satellite.mat ....\n"
     ]
    },
    {
     "name": "stderr",
     "output_type": "stream",
     "text": [
      "C:\\Users\\HP\\anaconda3\\lib\\site-packages\\sklearn\\cluster\\_kmeans.py:973: FutureWarning: 'n_jobs' was deprecated in version 0.23 and will be removed in 0.25.\n",
      "  warnings.warn(\"'n_jobs' was deprecated in version 0.23 and will be\"\n"
     ]
    },
    {
     "name": "stdout",
     "output_type": "stream",
     "text": [
      "\n",
      " ..... Processing... satimage-2.mat ....\n"
     ]
    },
    {
     "name": "stderr",
     "output_type": "stream",
     "text": [
      "C:\\Users\\HP\\anaconda3\\lib\\site-packages\\sklearn\\cluster\\_kmeans.py:973: FutureWarning: 'n_jobs' was deprecated in version 0.23 and will be removed in 0.25.\n",
      "  warnings.warn(\"'n_jobs' was deprecated in version 0.23 and will be\"\n"
     ]
    },
    {
     "name": "stdout",
     "output_type": "stream",
     "text": [
      "\n",
      " ..... Processing... shuttle.mat ....\n"
     ]
    },
    {
     "name": "stderr",
     "output_type": "stream",
     "text": [
      "C:\\Users\\HP\\anaconda3\\lib\\site-packages\\sklearn\\cluster\\_kmeans.py:973: FutureWarning: 'n_jobs' was deprecated in version 0.23 and will be removed in 0.25.\n",
      "  warnings.warn(\"'n_jobs' was deprecated in version 0.23 and will be\"\n",
      "C:\\Users\\HP\\anaconda3\\lib\\site-packages\\sklearn\\covariance\\_robust_covariance.py:166: RuntimeWarning: Determinant has increased; this should not happen: log(det) > log(previous_det) (-51.329553371152677 > -79.351778048499355). You may want to try with a higher value of support_fraction (current value: 0.503).\n",
      "  warnings.warn(\"Determinant has increased; this should not happen: \"\n",
      "C:\\Users\\HP\\anaconda3\\lib\\site-packages\\sklearn\\covariance\\_robust_covariance.py:166: RuntimeWarning: Determinant has increased; this should not happen: log(det) > log(previous_det) (-50.817604958652907 > -76.293767670544142). You may want to try with a higher value of support_fraction (current value: 0.503).\n",
      "  warnings.warn(\"Determinant has increased; this should not happen: \"\n",
      "C:\\Users\\HP\\anaconda3\\lib\\site-packages\\sklearn\\covariance\\_robust_covariance.py:166: RuntimeWarning: Determinant has increased; this should not happen: log(det) > log(previous_det) (-50.664602619446789 > -74.822238672574827). You may want to try with a higher value of support_fraction (current value: 0.501).\n",
      "  warnings.warn(\"Determinant has increased; this should not happen: \"\n",
      "C:\\Users\\HP\\anaconda3\\lib\\site-packages\\sklearn\\covariance\\_robust_covariance.py:166: RuntimeWarning: Determinant has increased; this should not happen: log(det) > log(previous_det) (-50.639602186360314 > -75.978837973367988). You may want to try with a higher value of support_fraction (current value: 0.501).\n",
      "  warnings.warn(\"Determinant has increased; this should not happen: \"\n",
      "C:\\Users\\HP\\anaconda3\\lib\\site-packages\\sklearn\\covariance\\_robust_covariance.py:166: RuntimeWarning: Determinant has increased; this should not happen: log(det) > log(previous_det) (-50.615478356052236 > -76.128171556726201). You may want to try with a higher value of support_fraction (current value: 0.501).\n",
      "  warnings.warn(\"Determinant has increased; this should not happen: \"\n",
      "C:\\Users\\HP\\anaconda3\\lib\\site-packages\\sklearn\\covariance\\_robust_covariance.py:166: RuntimeWarning: Determinant has increased; this should not happen: log(det) > log(previous_det) (-50.603723220206334 > -78.144467348490465). You may want to try with a higher value of support_fraction (current value: 0.501).\n",
      "  warnings.warn(\"Determinant has increased; this should not happen: \"\n",
      "C:\\Users\\HP\\anaconda3\\lib\\site-packages\\sklearn\\covariance\\_robust_covariance.py:166: RuntimeWarning: Determinant has increased; this should not happen: log(det) > log(previous_det) (-50.952860770749275 > -75.012303336679167). You may want to try with a higher value of support_fraction (current value: 0.501).\n",
      "  warnings.warn(\"Determinant has increased; this should not happen: \"\n",
      "C:\\Users\\HP\\anaconda3\\lib\\site-packages\\sklearn\\covariance\\_robust_covariance.py:166: RuntimeWarning: Determinant has increased; this should not happen: log(det) > log(previous_det) (-50.491971615257789 > -75.081342615607767). You may want to try with a higher value of support_fraction (current value: 0.501).\n",
      "  warnings.warn(\"Determinant has increased; this should not happen: \"\n",
      "C:\\Users\\HP\\anaconda3\\lib\\site-packages\\sklearn\\covariance\\_robust_covariance.py:166: RuntimeWarning: Determinant has increased; this should not happen: log(det) > log(previous_det) (-50.874407408206558 > -77.217494689487751). You may want to try with a higher value of support_fraction (current value: 0.501).\n",
      "  warnings.warn(\"Determinant has increased; this should not happen: \"\n",
      "C:\\Users\\HP\\anaconda3\\lib\\site-packages\\sklearn\\covariance\\_robust_covariance.py:166: RuntimeWarning: Determinant has increased; this should not happen: log(det) > log(previous_det) (-50.791589534487933 > -76.393375604528558). You may want to try with a higher value of support_fraction (current value: 0.501).\n",
      "  warnings.warn(\"Determinant has increased; this should not happen: \"\n",
      "C:\\Users\\HP\\anaconda3\\lib\\site-packages\\sklearn\\covariance\\_robust_covariance.py:166: RuntimeWarning: Determinant has increased; this should not happen: log(det) > log(previous_det) (-50.639385617545322 > -76.989019288536397). You may want to try with a higher value of support_fraction (current value: 0.501).\n",
      "  warnings.warn(\"Determinant has increased; this should not happen: \"\n",
      "C:\\Users\\HP\\anaconda3\\lib\\site-packages\\sklearn\\covariance\\_robust_covariance.py:166: RuntimeWarning: Determinant has increased; this should not happen: log(det) > log(previous_det) (-51.509027872316359 > -77.635863054750132). You may want to try with a higher value of support_fraction (current value: 0.501).\n",
      "  warnings.warn(\"Determinant has increased; this should not happen: \"\n",
      "C:\\Users\\HP\\anaconda3\\lib\\site-packages\\sklearn\\covariance\\_robust_covariance.py:166: RuntimeWarning: Determinant has increased; this should not happen: log(det) > log(previous_det) (-50.008000074092465 > -75.259976114199304). You may want to try with a higher value of support_fraction (current value: 0.501).\n",
      "  warnings.warn(\"Determinant has increased; this should not happen: \"\n",
      "C:\\Users\\HP\\anaconda3\\lib\\site-packages\\sklearn\\covariance\\_robust_covariance.py:166: RuntimeWarning: Determinant has increased; this should not happen: log(det) > log(previous_det) (-51.035138506914926 > -76.133092641706455). You may want to try with a higher value of support_fraction (current value: 0.501).\n",
      "  warnings.warn(\"Determinant has increased; this should not happen: \"\n",
      "C:\\Users\\HP\\anaconda3\\lib\\site-packages\\sklearn\\covariance\\_robust_covariance.py:166: RuntimeWarning: Determinant has increased; this should not happen: log(det) > log(previous_det) (-50.060744279821563 > -76.903819182141476). You may want to try with a higher value of support_fraction (current value: 0.501).\n",
      "  warnings.warn(\"Determinant has increased; this should not happen: \"\n",
      "C:\\Users\\HP\\anaconda3\\lib\\site-packages\\sklearn\\covariance\\_robust_covariance.py:166: RuntimeWarning: Determinant has increased; this should not happen: log(det) > log(previous_det) (-50.867093387360974 > -74.993900056946757). You may want to try with a higher value of support_fraction (current value: 0.501).\n",
      "  warnings.warn(\"Determinant has increased; this should not happen: \"\n",
      "C:\\Users\\HP\\anaconda3\\lib\\site-packages\\sklearn\\covariance\\_robust_covariance.py:166: RuntimeWarning: Determinant has increased; this should not happen: log(det) > log(previous_det) (-50.734477157916032 > -77.199147508122493). You may want to try with a higher value of support_fraction (current value: 0.501).\n",
      "  warnings.warn(\"Determinant has increased; this should not happen: \"\n",
      "C:\\Users\\HP\\anaconda3\\lib\\site-packages\\sklearn\\covariance\\_robust_covariance.py:166: RuntimeWarning: Determinant has increased; this should not happen: log(det) > log(previous_det) (-50.570389987508804 > -76.331395681657114). You may want to try with a higher value of support_fraction (current value: 0.501).\n",
      "  warnings.warn(\"Determinant has increased; this should not happen: \"\n",
      "C:\\Users\\HP\\anaconda3\\lib\\site-packages\\sklearn\\covariance\\_robust_covariance.py:166: RuntimeWarning: Determinant has increased; this should not happen: log(det) > log(previous_det) (-50.004414661916321 > -78.284141775396691). You may want to try with a higher value of support_fraction (current value: 0.501).\n",
      "  warnings.warn(\"Determinant has increased; this should not happen: \"\n",
      "C:\\Users\\HP\\anaconda3\\lib\\site-packages\\sklearn\\covariance\\_robust_covariance.py:166: RuntimeWarning: Determinant has increased; this should not happen: log(det) > log(previous_det) (-50.683633773237034 > -75.426848571177160). You may want to try with a higher value of support_fraction (current value: 0.501).\n",
      "  warnings.warn(\"Determinant has increased; this should not happen: \"\n",
      "C:\\Users\\HP\\anaconda3\\lib\\site-packages\\sklearn\\covariance\\_robust_covariance.py:166: RuntimeWarning: Determinant has increased; this should not happen: log(det) > log(previous_det) (-49.981124843369933 > -74.509119705445585). You may want to try with a higher value of support_fraction (current value: 0.501).\n",
      "  warnings.warn(\"Determinant has increased; this should not happen: \"\n",
      "C:\\Users\\HP\\anaconda3\\lib\\site-packages\\sklearn\\covariance\\_robust_covariance.py:166: RuntimeWarning: Determinant has increased; this should not happen: log(det) > log(previous_det) (-50.083863063960187 > -76.879346377122815). You may want to try with a higher value of support_fraction (current value: 0.501).\n",
      "  warnings.warn(\"Determinant has increased; this should not happen: \"\n"
     ]
    },
    {
     "name": "stderr",
     "output_type": "stream",
     "text": [
      "C:\\Users\\HP\\anaconda3\\lib\\site-packages\\sklearn\\covariance\\_robust_covariance.py:166: RuntimeWarning: Determinant has increased; this should not happen: log(det) > log(previous_det) (-50.889069126755480 > -76.758750683590534). You may want to try with a higher value of support_fraction (current value: 0.501).\n",
      "  warnings.warn(\"Determinant has increased; this should not happen: \"\n",
      "C:\\Users\\HP\\anaconda3\\lib\\site-packages\\sklearn\\covariance\\_robust_covariance.py:166: RuntimeWarning: Determinant has increased; this should not happen: log(det) > log(previous_det) (-51.018384990078779 > -77.122871965758790). You may want to try with a higher value of support_fraction (current value: 0.501).\n",
      "  warnings.warn(\"Determinant has increased; this should not happen: \"\n",
      "C:\\Users\\HP\\anaconda3\\lib\\site-packages\\sklearn\\covariance\\_robust_covariance.py:166: RuntimeWarning: Determinant has increased; this should not happen: log(det) > log(previous_det) (-51.228483038219991 > -77.841373361694025). You may want to try with a higher value of support_fraction (current value: 0.501).\n",
      "  warnings.warn(\"Determinant has increased; this should not happen: \"\n",
      "C:\\Users\\HP\\anaconda3\\lib\\site-packages\\sklearn\\covariance\\_robust_covariance.py:166: RuntimeWarning: Determinant has increased; this should not happen: log(det) > log(previous_det) (-50.989303823856176 > -76.219571676133683). You may want to try with a higher value of support_fraction (current value: 0.501).\n",
      "  warnings.warn(\"Determinant has increased; this should not happen: \"\n",
      "C:\\Users\\HP\\anaconda3\\lib\\site-packages\\sklearn\\covariance\\_robust_covariance.py:166: RuntimeWarning: Determinant has increased; this should not happen: log(det) > log(previous_det) (-50.894291889496273 > -77.328478813105335). You may want to try with a higher value of support_fraction (current value: 0.501).\n",
      "  warnings.warn(\"Determinant has increased; this should not happen: \"\n",
      "C:\\Users\\HP\\anaconda3\\lib\\site-packages\\sklearn\\covariance\\_robust_covariance.py:166: RuntimeWarning: Determinant has increased; this should not happen: log(det) > log(previous_det) (-51.139012288328495 > -75.658600752116925). You may want to try with a higher value of support_fraction (current value: 0.501).\n",
      "  warnings.warn(\"Determinant has increased; this should not happen: \"\n",
      "C:\\Users\\HP\\anaconda3\\lib\\site-packages\\sklearn\\covariance\\_robust_covariance.py:166: RuntimeWarning: Determinant has increased; this should not happen: log(det) > log(previous_det) (-49.813442062788816 > -76.181821894437135). You may want to try with a higher value of support_fraction (current value: 0.501).\n",
      "  warnings.warn(\"Determinant has increased; this should not happen: \"\n",
      "C:\\Users\\HP\\anaconda3\\lib\\site-packages\\sklearn\\covariance\\_robust_covariance.py:166: RuntimeWarning: Determinant has increased; this should not happen: log(det) > log(previous_det) (-50.686412515956242 > -75.984226847248749). You may want to try with a higher value of support_fraction (current value: 0.501).\n",
      "  warnings.warn(\"Determinant has increased; this should not happen: \"\n",
      "C:\\Users\\HP\\anaconda3\\lib\\site-packages\\sklearn\\covariance\\_robust_covariance.py:166: RuntimeWarning: Determinant has increased; this should not happen: log(det) > log(previous_det) (-51.368350432883432 > -75.582294592247493). You may want to try with a higher value of support_fraction (current value: 0.501).\n",
      "  warnings.warn(\"Determinant has increased; this should not happen: \"\n",
      "C:\\Users\\HP\\anaconda3\\lib\\site-packages\\sklearn\\covariance\\_robust_covariance.py:166: RuntimeWarning: Determinant has increased; this should not happen: log(det) > log(previous_det) (-50.966862951394454 > -74.794876060463750). You may want to try with a higher value of support_fraction (current value: 0.501).\n",
      "  warnings.warn(\"Determinant has increased; this should not happen: \"\n",
      "C:\\Users\\HP\\anaconda3\\lib\\site-packages\\sklearn\\covariance\\_robust_covariance.py:166: RuntimeWarning: Determinant has increased; this should not happen: log(det) > log(previous_det) (-51.229449970427169 > -80.032338819179742). You may want to try with a higher value of support_fraction (current value: 0.501).\n",
      "  warnings.warn(\"Determinant has increased; this should not happen: \"\n",
      "C:\\Users\\HP\\anaconda3\\lib\\site-packages\\sklearn\\covariance\\_robust_covariance.py:166: RuntimeWarning: Determinant has increased; this should not happen: log(det) > log(previous_det) (-51.291247574234333 > -77.578688434226081). You may want to try with a higher value of support_fraction (current value: 0.501).\n",
      "  warnings.warn(\"Determinant has increased; this should not happen: \"\n",
      "C:\\Users\\HP\\anaconda3\\lib\\site-packages\\sklearn\\covariance\\_robust_covariance.py:166: RuntimeWarning: Determinant has increased; this should not happen: log(det) > log(previous_det) (-50.219577923179166 > -76.071382104061328). You may want to try with a higher value of support_fraction (current value: 0.501).\n",
      "  warnings.warn(\"Determinant has increased; this should not happen: \"\n",
      "C:\\Users\\HP\\anaconda3\\lib\\site-packages\\sklearn\\covariance\\_robust_covariance.py:166: RuntimeWarning: Determinant has increased; this should not happen: log(det) > log(previous_det) (-50.151595314947706 > -76.356861732903468). You may want to try with a higher value of support_fraction (current value: 0.501).\n",
      "  warnings.warn(\"Determinant has increased; this should not happen: \"\n",
      "C:\\Users\\HP\\anaconda3\\lib\\site-packages\\sklearn\\covariance\\_robust_covariance.py:166: RuntimeWarning: Determinant has increased; this should not happen: log(det) > log(previous_det) (-50.034875803347447 > -75.422424127742005). You may want to try with a higher value of support_fraction (current value: 0.501).\n",
      "  warnings.warn(\"Determinant has increased; this should not happen: \"\n",
      "C:\\Users\\HP\\anaconda3\\lib\\site-packages\\sklearn\\covariance\\_robust_covariance.py:166: RuntimeWarning: Determinant has increased; this should not happen: log(det) > log(previous_det) (-50.310566777089122 > -77.542472047831311). You may want to try with a higher value of support_fraction (current value: 0.501).\n",
      "  warnings.warn(\"Determinant has increased; this should not happen: \"\n",
      "C:\\Users\\HP\\anaconda3\\lib\\site-packages\\sklearn\\covariance\\_robust_covariance.py:166: RuntimeWarning: Determinant has increased; this should not happen: log(det) > log(previous_det) (-50.159848253024251 > -76.043304533676846). You may want to try with a higher value of support_fraction (current value: 0.501).\n",
      "  warnings.warn(\"Determinant has increased; this should not happen: \"\n",
      "C:\\Users\\HP\\anaconda3\\lib\\site-packages\\sklearn\\covariance\\_robust_covariance.py:166: RuntimeWarning: Determinant has increased; this should not happen: log(det) > log(previous_det) (-50.727800055686856 > -76.211408144648274). You may want to try with a higher value of support_fraction (current value: 0.501).\n",
      "  warnings.warn(\"Determinant has increased; this should not happen: \"\n",
      "C:\\Users\\HP\\anaconda3\\lib\\site-packages\\sklearn\\covariance\\_robust_covariance.py:166: RuntimeWarning: Determinant has increased; this should not happen: log(det) > log(previous_det) (-50.209051320533788 > -75.819545230005218). You may want to try with a higher value of support_fraction (current value: 0.501).\n",
      "  warnings.warn(\"Determinant has increased; this should not happen: \"\n",
      "C:\\Users\\HP\\anaconda3\\lib\\site-packages\\sklearn\\covariance\\_robust_covariance.py:166: RuntimeWarning: Determinant has increased; this should not happen: log(det) > log(previous_det) (-50.866658664288586 > -76.864009825444441). You may want to try with a higher value of support_fraction (current value: 0.501).\n",
      "  warnings.warn(\"Determinant has increased; this should not happen: \"\n",
      "C:\\Users\\HP\\anaconda3\\lib\\site-packages\\sklearn\\covariance\\_robust_covariance.py:166: RuntimeWarning: Determinant has increased; this should not happen: log(det) > log(previous_det) (-51.228537414062004 > -76.174604290840023). You may want to try with a higher value of support_fraction (current value: 0.501).\n",
      "  warnings.warn(\"Determinant has increased; this should not happen: \"\n",
      "C:\\Users\\HP\\anaconda3\\lib\\site-packages\\sklearn\\covariance\\_robust_covariance.py:166: RuntimeWarning: Determinant has increased; this should not happen: log(det) > log(previous_det) (-50.713699100913466 > -75.898618337039210). You may want to try with a higher value of support_fraction (current value: 0.501).\n",
      "  warnings.warn(\"Determinant has increased; this should not happen: \"\n",
      "C:\\Users\\HP\\anaconda3\\lib\\site-packages\\sklearn\\covariance\\_robust_covariance.py:166: RuntimeWarning: Determinant has increased; this should not happen: log(det) > log(previous_det) (-50.748185977722713 > -76.512402244928936). You may want to try with a higher value of support_fraction (current value: 0.501).\n",
      "  warnings.warn(\"Determinant has increased; this should not happen: \"\n"
     ]
    },
    {
     "name": "stderr",
     "output_type": "stream",
     "text": [
      "C:\\Users\\HP\\anaconda3\\lib\\site-packages\\sklearn\\covariance\\_robust_covariance.py:166: RuntimeWarning: Determinant has increased; this should not happen: log(det) > log(previous_det) (-50.838014145997654 > -75.522445987998836). You may want to try with a higher value of support_fraction (current value: 0.501).\n",
      "  warnings.warn(\"Determinant has increased; this should not happen: \"\n"
     ]
    },
    {
     "name": "stdout",
     "output_type": "stream",
     "text": [
      "\n",
      " ..... Processing... vertebral.mat ....\n"
     ]
    },
    {
     "name": "stderr",
     "output_type": "stream",
     "text": [
      "C:\\Users\\HP\\anaconda3\\lib\\site-packages\\sklearn\\cluster\\_kmeans.py:973: FutureWarning: 'n_jobs' was deprecated in version 0.23 and will be removed in 0.25.\n",
      "  warnings.warn(\"'n_jobs' was deprecated in version 0.23 and will be\"\n",
      "C:\\Users\\HP\\anaconda3\\lib\\site-packages\\sklearn\\covariance\\_robust_covariance.py:166: RuntimeWarning: Determinant has increased; this should not happen: log(det) > log(previous_det) (-23.093416216293384 > -41.158495874256658). You may want to try with a higher value of support_fraction (current value: 0.528).\n",
      "  warnings.warn(\"Determinant has increased; this should not happen: \"\n",
      "C:\\Users\\HP\\anaconda3\\lib\\site-packages\\sklearn\\covariance\\_robust_covariance.py:166: RuntimeWarning: Determinant has increased; this should not happen: log(det) > log(previous_det) (-22.994244186607474 > -41.455463596448396). You may want to try with a higher value of support_fraction (current value: 0.528).\n",
      "  warnings.warn(\"Determinant has increased; this should not happen: \"\n"
     ]
    },
    {
     "name": "stdout",
     "output_type": "stream",
     "text": [
      "\n",
      " ..... Processing... vowels.mat ....\n"
     ]
    },
    {
     "name": "stderr",
     "output_type": "stream",
     "text": [
      "C:\\Users\\HP\\anaconda3\\lib\\site-packages\\sklearn\\cluster\\_kmeans.py:973: FutureWarning: 'n_jobs' was deprecated in version 0.23 and will be removed in 0.25.\n",
      "  warnings.warn(\"'n_jobs' was deprecated in version 0.23 and will be\"\n"
     ]
    },
    {
     "name": "stdout",
     "output_type": "stream",
     "text": [
      "\n",
      " ..... Processing... wbc.mat ....\n"
     ]
    },
    {
     "name": "stderr",
     "output_type": "stream",
     "text": [
      "C:\\Users\\HP\\anaconda3\\lib\\site-packages\\sklearn\\cluster\\_kmeans.py:973: FutureWarning: 'n_jobs' was deprecated in version 0.23 and will be removed in 0.25.\n",
      "  warnings.warn(\"'n_jobs' was deprecated in version 0.23 and will be\"\n"
     ]
    }
   ],
   "source": [
    "from time import time\n",
    "\n",
    "for mat_f in mat_list:\n",
    "    print(\"\\n ..... Processing...\", mat_f, \"....\")\n",
    "    mat = loadmat(os.path.join(mat_f))\n",
    "    #print(mat)\n",
    "    X = mat[\"X\"]\n",
    "    Y = mat[\"y\"].ravel()\n",
    "    outlires_fraction = np.count_nonzero(Y) / len(Y)\n",
    "    outliers_percentage = round(outlires_fraction * 100,ndigits=4)\n",
    "    \n",
    "    #construct a containers\n",
    "    #print(X.shape)\n",
    "    #print(Y)\n",
    "    \n",
    "    roc_list = [mat_f.split(\".\")[0], X.shape[0], X.shape[1],outliers_percentage] #mat_f[:-4]\n",
    "    pre_list = [mat_f.split(\".\")[0], X.shape[0], X.shape[1],outliers_percentage]\n",
    "    time_list = [mat_f.split(\".\")[0], X.shape[0], X.shape[1],outliers_percentage]\n",
    "    \n",
    "    X_train,X_test, Y_train, Y_test = train_test_split(X,Y, test_size=0.4, random_state=42)\n",
    "    \n",
    "    #standarsing data\n",
    "    X_train_norm, X_test_norm = standardizer(X_train,X_test)\n",
    "    \n",
    "    \n",
    "    Classifer = {\"Angle-based outlier Detector ABOD\" : ABOD(contamination= outlires_fraction),\n",
    "                \"Cluster based local outlier factor CBlOF\" : CBLOF(contamination= outlires_fraction,check_estimator=False,random_state=42),\n",
    "                \"Feature Bagging\" : FeatureBagging(contamination= outlires_fraction,random_state=42),\n",
    "                \"Histogram-based Outlier Detection HBOS\" : HBOS(contamination= outlires_fraction),\n",
    "                 \"Isolation Forest\" : IForest(contamination= outlires_fraction,random_state=42),\n",
    "                 \"K nearest Neighbors KNN\" : KNN(contamination= outlires_fraction),\n",
    "                 \"Local Outlier Factor LOF\" : LOF(contamination= outlires_fraction),\n",
    "                 \"Minimun Covariance Determinat MCD \" : MCD(contamination= outlires_fraction,random_state=42),\n",
    "                 \"One-class SVM OCSVM\" : OCSVM(contamination= outlires_fraction),\n",
    "                 \"Principal Component Analysis PCS\" : PCA(contamination= outlires_fraction,random_state=42)\n",
    "                                }\n",
    "    for clf_name, clf in Classifer.items():\n",
    "        t0 = time()\n",
    "        clf.fit(X_train_norm)\n",
    "        test_score = clf.decision_function(X_test_norm)\n",
    "        #print(test_score)\n",
    "        t1 = time()\n",
    "        duration = round(t1-t0, ndigits=4)\n",
    "        time_list.append(duration)\n",
    "    \n",
    "        roc = round(roc_auc_score(Y_test, test_score), ndigits=4)\n",
    "        prn = round(precision_n_scores(Y_test, test_score), ndigits=4)\n",
    "    \n",
    "        roc_list.append(roc)\n",
    "        pre_list.append(prn)\n",
    "\n",
    "    temp_df = pd.DataFrame(time_list).transpose()\n",
    "    temp_df.columns = df_columns\n",
    "    time_df = pd.concat([time_df,temp_df],axis=0)\n",
    "    \n",
    "    temp_df = pd.DataFrame(roc_list).transpose()\n",
    "    temp_df.columns = df_columns\n",
    "    roc_df = pd.concat([roc_df,temp_df],axis=0)\n",
    "    \n",
    "    temp_df = pd.DataFrame(pre_list).transpose()\n",
    "    temp_df.columns = df_columns\n",
    "    pre_df = pd.concat([pre_df,temp_df],axis=0)\n",
    "    "
   ]
  },
  {
   "cell_type": "code",
   "execution_count": 44,
   "metadata": {},
   "outputs": [
    {
     "data": {
      "text/html": [
       "<div>\n",
       "<style scoped>\n",
       "    .dataframe tbody tr th:only-of-type {\n",
       "        vertical-align: middle;\n",
       "    }\n",
       "\n",
       "    .dataframe tbody tr th {\n",
       "        vertical-align: top;\n",
       "    }\n",
       "\n",
       "    .dataframe thead th {\n",
       "        text-align: right;\n",
       "    }\n",
       "</style>\n",
       "<table border=\"1\" class=\"dataframe\">\n",
       "  <thead>\n",
       "    <tr style=\"text-align: right;\">\n",
       "      <th></th>\n",
       "      <th>Data</th>\n",
       "      <th>#samples</th>\n",
       "      <th>#Dimension</th>\n",
       "      <th>Outlier Perc</th>\n",
       "      <th>ABOD</th>\n",
       "      <th>CBLOF</th>\n",
       "      <th>FB</th>\n",
       "      <th>HBOS</th>\n",
       "      <th>IForest</th>\n",
       "      <th>KNN</th>\n",
       "      <th>LOF</th>\n",
       "      <th>MCD</th>\n",
       "      <th>OCSVM</th>\n",
       "      <th>PCA</th>\n",
       "    </tr>\n",
       "  </thead>\n",
       "  <tbody>\n",
       "    <tr>\n",
       "      <th>0</th>\n",
       "      <td>wbc</td>\n",
       "      <td>378</td>\n",
       "      <td>30</td>\n",
       "      <td>5.5556</td>\n",
       "      <td>0.0565</td>\n",
       "      <td>0.047</td>\n",
       "      <td>0.0889</td>\n",
       "      <td>0.008</td>\n",
       "      <td>0.2254</td>\n",
       "      <td>0.0156</td>\n",
       "      <td>0</td>\n",
       "      <td>0.0624</td>\n",
       "      <td>0.0156</td>\n",
       "      <td>0</td>\n",
       "    </tr>\n",
       "    <tr>\n",
       "      <th>0</th>\n",
       "      <td>arrhythmia</td>\n",
       "      <td>452</td>\n",
       "      <td>274</td>\n",
       "      <td>14.6018</td>\n",
       "      <td>0.2599</td>\n",
       "      <td>0.1135</td>\n",
       "      <td>0.6131</td>\n",
       "      <td>0.0524</td>\n",
       "      <td>0.3423</td>\n",
       "      <td>0.0794</td>\n",
       "      <td>0.0723</td>\n",
       "      <td>0.7415</td>\n",
       "      <td>0.0481</td>\n",
       "      <td>0.0639</td>\n",
       "    </tr>\n",
       "    <tr>\n",
       "      <th>0</th>\n",
       "      <td>cardio</td>\n",
       "      <td>1831</td>\n",
       "      <td>21</td>\n",
       "      <td>9.6122</td>\n",
       "      <td>0.5026</td>\n",
       "      <td>0.1046</td>\n",
       "      <td>0.7868</td>\n",
       "      <td>0.0042</td>\n",
       "      <td>0.3417</td>\n",
       "      <td>0.1599</td>\n",
       "      <td>0.1039</td>\n",
       "      <td>0.6719</td>\n",
       "      <td>0.08</td>\n",
       "      <td>0.0079</td>\n",
       "    </tr>\n",
       "    <tr>\n",
       "      <th>0</th>\n",
       "      <td>glass</td>\n",
       "      <td>214</td>\n",
       "      <td>9</td>\n",
       "      <td>4.2056</td>\n",
       "      <td>0.048</td>\n",
       "      <td>0.0483</td>\n",
       "      <td>0.032</td>\n",
       "      <td>0</td>\n",
       "      <td>0.3836</td>\n",
       "      <td>0.0081</td>\n",
       "      <td>0</td>\n",
       "      <td>0.0401</td>\n",
       "      <td>0</td>\n",
       "      <td>0</td>\n",
       "    </tr>\n",
       "    <tr>\n",
       "      <th>0</th>\n",
       "      <td>ionosphere</td>\n",
       "      <td>351</td>\n",
       "      <td>33</td>\n",
       "      <td>35.8974</td>\n",
       "      <td>0.0628</td>\n",
       "      <td>0.048</td>\n",
       "      <td>0.0823</td>\n",
       "      <td>0.0078</td>\n",
       "      <td>0.2882</td>\n",
       "      <td>0.016</td>\n",
       "      <td>0.008</td>\n",
       "      <td>0.064</td>\n",
       "      <td>0.0079</td>\n",
       "      <td>0</td>\n",
       "    </tr>\n",
       "    <tr>\n",
       "      <th>0</th>\n",
       "      <td>letter</td>\n",
       "      <td>1600</td>\n",
       "      <td>32</td>\n",
       "      <td>6.25</td>\n",
       "      <td>0.352</td>\n",
       "      <td>0.0937</td>\n",
       "      <td>0.6526</td>\n",
       "      <td>0.008</td>\n",
       "      <td>0.3231</td>\n",
       "      <td>0.1261</td>\n",
       "      <td>0.1039</td>\n",
       "      <td>1.1425</td>\n",
       "      <td>0.064</td>\n",
       "      <td>0.0081</td>\n",
       "    </tr>\n",
       "    <tr>\n",
       "      <th>0</th>\n",
       "      <td>lympho</td>\n",
       "      <td>148</td>\n",
       "      <td>18</td>\n",
       "      <td>4.0541</td>\n",
       "      <td>0.024</td>\n",
       "      <td>0.04</td>\n",
       "      <td>0.0313</td>\n",
       "      <td>0.008</td>\n",
       "      <td>0.3397</td>\n",
       "      <td>0.009</td>\n",
       "      <td>0</td>\n",
       "      <td>0.0321</td>\n",
       "      <td>0</td>\n",
       "      <td>0</td>\n",
       "    </tr>\n",
       "    <tr>\n",
       "      <th>0</th>\n",
       "      <td>mnist</td>\n",
       "      <td>7603</td>\n",
       "      <td>100</td>\n",
       "      <td>9.2069</td>\n",
       "      <td>7.2134</td>\n",
       "      <td>0.7083</td>\n",
       "      <td>43.2956</td>\n",
       "      <td>0.048</td>\n",
       "      <td>1.6758</td>\n",
       "      <td>5.779</td>\n",
       "      <td>5.4907</td>\n",
       "      <td>2.8247</td>\n",
       "      <td>3.6264</td>\n",
       "      <td>0.1219</td>\n",
       "    </tr>\n",
       "    <tr>\n",
       "      <th>0</th>\n",
       "      <td>musk</td>\n",
       "      <td>3062</td>\n",
       "      <td>166</td>\n",
       "      <td>3.1679</td>\n",
       "      <td>2.0221</td>\n",
       "      <td>0.2217</td>\n",
       "      <td>10.7559</td>\n",
       "      <td>0.04</td>\n",
       "      <td>1.083</td>\n",
       "      <td>1.6249</td>\n",
       "      <td>1.4929</td>\n",
       "      <td>11.6152</td>\n",
       "      <td>1.1165</td>\n",
       "      <td>0.1311</td>\n",
       "    </tr>\n",
       "    <tr>\n",
       "      <th>0</th>\n",
       "      <td>optdigits</td>\n",
       "      <td>5216</td>\n",
       "      <td>64</td>\n",
       "      <td>2.8758</td>\n",
       "      <td>2.2693</td>\n",
       "      <td>0.2561</td>\n",
       "      <td>12.0859</td>\n",
       "      <td>0.024</td>\n",
       "      <td>0.8329</td>\n",
       "      <td>1.5397</td>\n",
       "      <td>1.4786</td>\n",
       "      <td>1.3552</td>\n",
       "      <td>1.1523</td>\n",
       "      <td>0.0399</td>\n",
       "    </tr>\n",
       "    <tr>\n",
       "      <th>0</th>\n",
       "      <td>pendigits</td>\n",
       "      <td>6870</td>\n",
       "      <td>16</td>\n",
       "      <td>2.2707</td>\n",
       "      <td>1.3352</td>\n",
       "      <td>0.2027</td>\n",
       "      <td>3.4333</td>\n",
       "      <td>0.008</td>\n",
       "      <td>0.5758</td>\n",
       "      <td>0.4791</td>\n",
       "      <td>0.4329</td>\n",
       "      <td>1.641</td>\n",
       "      <td>0.7209</td>\n",
       "      <td>0.0079</td>\n",
       "    </tr>\n",
       "    <tr>\n",
       "      <th>0</th>\n",
       "      <td>pima</td>\n",
       "      <td>768</td>\n",
       "      <td>8</td>\n",
       "      <td>34.8958</td>\n",
       "      <td>0.1265</td>\n",
       "      <td>0.08</td>\n",
       "      <td>0.144</td>\n",
       "      <td>0</td>\n",
       "      <td>0.2484</td>\n",
       "      <td>0.024</td>\n",
       "      <td>0.008</td>\n",
       "      <td>0.0481</td>\n",
       "      <td>0.016</td>\n",
       "      <td>0</td>\n",
       "    </tr>\n",
       "    <tr>\n",
       "      <th>0</th>\n",
       "      <td>satellite</td>\n",
       "      <td>6435</td>\n",
       "      <td>36</td>\n",
       "      <td>31.6395</td>\n",
       "      <td>1.7039</td>\n",
       "      <td>0.2478</td>\n",
       "      <td>6.1664</td>\n",
       "      <td>0.0125</td>\n",
       "      <td>0.7068</td>\n",
       "      <td>0.8265</td>\n",
       "      <td>0.742</td>\n",
       "      <td>2.0936</td>\n",
       "      <td>1.0488</td>\n",
       "      <td>0.02</td>\n",
       "    </tr>\n",
       "    <tr>\n",
       "      <th>0</th>\n",
       "      <td>satimage-2</td>\n",
       "      <td>5803</td>\n",
       "      <td>36</td>\n",
       "      <td>1.2235</td>\n",
       "      <td>1.4077</td>\n",
       "      <td>0.2078</td>\n",
       "      <td>4.7654</td>\n",
       "      <td>0.016</td>\n",
       "      <td>0.6258</td>\n",
       "      <td>0.6552</td>\n",
       "      <td>0.5678</td>\n",
       "      <td>2.1857</td>\n",
       "      <td>0.8237</td>\n",
       "      <td>0.0159</td>\n",
       "    </tr>\n",
       "    <tr>\n",
       "      <th>0</th>\n",
       "      <td>shuttle</td>\n",
       "      <td>49097</td>\n",
       "      <td>9</td>\n",
       "      <td>7.1511</td>\n",
       "      <td>11.9568</td>\n",
       "      <td>0.5736</td>\n",
       "      <td>41.5087</td>\n",
       "      <td>0.016</td>\n",
       "      <td>2.6513</td>\n",
       "      <td>6.5566</td>\n",
       "      <td>8.0313</td>\n",
       "      <td>9.9939</td>\n",
       "      <td>34.0645</td>\n",
       "      <td>0.0272</td>\n",
       "    </tr>\n",
       "    <tr>\n",
       "      <th>0</th>\n",
       "      <td>vertebral</td>\n",
       "      <td>240</td>\n",
       "      <td>6</td>\n",
       "      <td>12.5</td>\n",
       "      <td>0.0561</td>\n",
       "      <td>0.04</td>\n",
       "      <td>0.0399</td>\n",
       "      <td>0</td>\n",
       "      <td>0.2639</td>\n",
       "      <td>0.0081</td>\n",
       "      <td>0</td>\n",
       "      <td>0.0404</td>\n",
       "      <td>0</td>\n",
       "      <td>0</td>\n",
       "    </tr>\n",
       "    <tr>\n",
       "      <th>0</th>\n",
       "      <td>vowels</td>\n",
       "      <td>1456</td>\n",
       "      <td>12</td>\n",
       "      <td>3.4341</td>\n",
       "      <td>0.304</td>\n",
       "      <td>0.096</td>\n",
       "      <td>0.275</td>\n",
       "      <td>0</td>\n",
       "      <td>0.2772</td>\n",
       "      <td>0.056</td>\n",
       "      <td>0.032</td>\n",
       "      <td>0.6323</td>\n",
       "      <td>0.032</td>\n",
       "      <td>0</td>\n",
       "    </tr>\n",
       "    <tr>\n",
       "      <th>0</th>\n",
       "      <td>wbc</td>\n",
       "      <td>378</td>\n",
       "      <td>30</td>\n",
       "      <td>5.5556</td>\n",
       "      <td>0.0645</td>\n",
       "      <td>0.0481</td>\n",
       "      <td>0.0719</td>\n",
       "      <td>0.008</td>\n",
       "      <td>0.3747</td>\n",
       "      <td>0.016</td>\n",
       "      <td>0.008</td>\n",
       "      <td>0.0695</td>\n",
       "      <td>0</td>\n",
       "      <td>0</td>\n",
       "    </tr>\n",
       "  </tbody>\n",
       "</table>\n",
       "</div>"
      ],
      "text/plain": [
       "         Data #samples #Dimension Outlier Perc     ABOD   CBLOF       FB  \\\n",
       "0         wbc      378         30       5.5556   0.0565   0.047   0.0889   \n",
       "0  arrhythmia      452        274      14.6018   0.2599  0.1135   0.6131   \n",
       "0      cardio     1831         21       9.6122   0.5026  0.1046   0.7868   \n",
       "0       glass      214          9       4.2056    0.048  0.0483    0.032   \n",
       "0  ionosphere      351         33      35.8974   0.0628   0.048   0.0823   \n",
       "0      letter     1600         32         6.25    0.352  0.0937   0.6526   \n",
       "0      lympho      148         18       4.0541    0.024    0.04   0.0313   \n",
       "0       mnist     7603        100       9.2069   7.2134  0.7083  43.2956   \n",
       "0        musk     3062        166       3.1679   2.0221  0.2217  10.7559   \n",
       "0   optdigits     5216         64       2.8758   2.2693  0.2561  12.0859   \n",
       "0   pendigits     6870         16       2.2707   1.3352  0.2027   3.4333   \n",
       "0        pima      768          8      34.8958   0.1265    0.08    0.144   \n",
       "0   satellite     6435         36      31.6395   1.7039  0.2478   6.1664   \n",
       "0  satimage-2     5803         36       1.2235   1.4077  0.2078   4.7654   \n",
       "0     shuttle    49097          9       7.1511  11.9568  0.5736  41.5087   \n",
       "0   vertebral      240          6         12.5   0.0561    0.04   0.0399   \n",
       "0      vowels     1456         12       3.4341    0.304   0.096    0.275   \n",
       "0         wbc      378         30       5.5556   0.0645  0.0481   0.0719   \n",
       "\n",
       "     HBOS IForest     KNN     LOF      MCD    OCSVM     PCA  \n",
       "0   0.008  0.2254  0.0156       0   0.0624   0.0156       0  \n",
       "0  0.0524  0.3423  0.0794  0.0723   0.7415   0.0481  0.0639  \n",
       "0  0.0042  0.3417  0.1599  0.1039   0.6719     0.08  0.0079  \n",
       "0       0  0.3836  0.0081       0   0.0401        0       0  \n",
       "0  0.0078  0.2882   0.016   0.008    0.064   0.0079       0  \n",
       "0   0.008  0.3231  0.1261  0.1039   1.1425    0.064  0.0081  \n",
       "0   0.008  0.3397   0.009       0   0.0321        0       0  \n",
       "0   0.048  1.6758   5.779  5.4907   2.8247   3.6264  0.1219  \n",
       "0    0.04   1.083  1.6249  1.4929  11.6152   1.1165  0.1311  \n",
       "0   0.024  0.8329  1.5397  1.4786   1.3552   1.1523  0.0399  \n",
       "0   0.008  0.5758  0.4791  0.4329    1.641   0.7209  0.0079  \n",
       "0       0  0.2484   0.024   0.008   0.0481    0.016       0  \n",
       "0  0.0125  0.7068  0.8265   0.742   2.0936   1.0488    0.02  \n",
       "0   0.016  0.6258  0.6552  0.5678   2.1857   0.8237  0.0159  \n",
       "0   0.016  2.6513  6.5566  8.0313   9.9939  34.0645  0.0272  \n",
       "0       0  0.2639  0.0081       0   0.0404        0       0  \n",
       "0       0  0.2772   0.056   0.032   0.6323    0.032       0  \n",
       "0   0.008  0.3747   0.016   0.008   0.0695        0       0  "
      ]
     },
     "execution_count": 44,
     "metadata": {},
     "output_type": "execute_result"
    }
   ],
   "source": [
    "time_df"
   ]
  },
  {
   "cell_type": "markdown",
   "metadata": {},
   "source": [
    "Project Day 1 Agenda :\n",
    "Anamoly Detection In Machine Learning\n",
    "Types of Anomaly Detection\n",
    "PyOD\n",
    "Benchmark of Various outlier detection models\n",
    "Model Building Using\n",
    "Anomaly Detection In Machine Learning :\n",
    "So far we have learnt EDA,supervised and unsupervised learning .\n",
    "WE will get into a real business problem .\n",
    "We will learn to build real time project .\n",
    "We will do the first project on Anomaly detection or something Abnormal .\n",
    "Anomaly is referred to as uncertain behavior .\n",
    "Objective is identify the anomaly .\n",
    "In Medical industry Anomaly is a miracle .\n",
    "In IT industry if there is any attack on the system we will get an abnormal response from our system \n",
    "Novelty/Outlier/Forgery and out of distribution detection are all same.\n",
    "Hawkins defined anomaly as “an abbreviation which deviates sp much from the other observations as to arouse suspicious that it was generated by a different mechanism .\n",
    "Anomaly detection has received considerable attention in the field of data mining due to the valuable insight that the detection of unusual events can provide in a variety of application \n",
    "WE can use this to detect faulty sensor.\n",
    "In anomaly detection Domain Knowledge is very important .\n",
    "An example is the breed of dogs if a new species is seen it is novrl class and if any other breed comes in it is outlier .\n",
    "Types of Anomaly Detection:\n",
    "Time-series anomaly is like attack on a system .\n",
    "Video-Level Detection:In Banks,ATM and other important places in cctv recording we can set certain limits and category as to if someone does any unwanted behvior it will set an alarm .\n",
    "Image-level detection:Can be used in cases where human cannot check the similarity n 2 two images we can find the percentage of similarity in 2 pictures .There are 3 types of categories .\n",
    "Anomaly Classification target.\n",
    "Out-of-Distribution Detection.\n",
    "Anomaly Segmentation Target .\n",
    "PyOD:\n",
    "PyOD is a comprehensive and scaleable python toolkit for detecting outlying objects in multivariate data .\n",
    "It was developed back in 2017 and has been used in many academic research and commercial products .\n",
    "PyOD Uses:\n",
    "It is featured for Unified APIs ,detailed documentation and interactive examples across Various Algorithms.\n",
    "In Advanced models,includinf Neural Networks and outlier Ensembles\n",
    "Optimized performance with JIT and parallelization when possible,using namba and joblib.\n",
    "Benchmark of Various outlier detection models:\n",
    "Linear Models for Outlier Detection :Wehn one increases or decreases with respect to other it is linear.\n",
    "Principal Component Analysis :Based on the contribution can we remove any of the feature and choose the most important ones is PCA.\n",
    "Minimum Covariance Determinant :Covariance is the difference bet std deviation and other variance values .So using a limit from the midpoint we can detect outliers after a range.\n",
    "One-Class Support Vector Machine:WE can take all the inliner and remove the uncertain and out of the line problems.\n",
    "Proximity Based Outlier Detection Models :Using the proximity to detect the outliers\n",
    "Local Outlier Factor \n",
    "Clustering Based LOF\n",
    "KNN\n",
    "Histogram Based Outlier Score\n",
    "Probability Model for outlier Detection:\n",
    "Angle-Based Outlier Detection\n",
    "Ensemble and combination Framework\n",
    "Isolation Forest\n",
    "Feature bagging "
   ]
  }
 ],
 "metadata": {
  "kernelspec": {
   "display_name": "Project_LU",
   "language": "python",
   "name": "project_lu"
  },
  "language_info": {
   "codemirror_mode": {
    "name": "ipython",
    "version": 3
   },
   "file_extension": ".py",
   "mimetype": "text/x-python",
   "name": "python",
   "nbconvert_exporter": "python",
   "pygments_lexer": "ipython3",
   "version": "3.8.3"
  },
  "nbTranslate": {
   "displayLangs": [
    "*"
   ],
   "hotkey": "alt-t",
   "langInMainMenu": true,
   "sourceLang": "en",
   "targetLang": "fr",
   "useGoogleTranslate": true
  }
 },
 "nbformat": 4,
 "nbformat_minor": 4
}
