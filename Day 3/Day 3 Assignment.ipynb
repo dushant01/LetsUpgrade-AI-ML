{
 "cells": [
  {
   "cell_type": "raw",
   "metadata": {},
   "source": [
    "I'm using Jupyter Lab\n",
    "\n",
    "Question 1 :\n",
    "Write a program to subtract two complex numbers in Python."
   ]
  },
  {
   "cell_type": "code",
   "execution_count": 2,
   "metadata": {},
   "outputs": [
    {
     "name": "stdout",
     "output_type": "stream",
     "text": [
      "(1+1j)\n"
     ]
    }
   ],
   "source": [
    "#creating two complex number a and b\n",
    "#---------------\n",
    "\n",
    "a= complex(3,3)\n",
    "b= complex(4,4)\n",
    "\n",
    "sub=b-a #subtraction of two complex number\n",
    "\n",
    "print(sub)"
   ]
  },
  {
   "cell_type": "markdown",
   "metadata": {},
   "source": [
    "Question 2 :\n",
    "Write a program to find the fourth root of a number?"
   ]
  },
  {
   "cell_type": "code",
   "execution_count": 8,
   "metadata": {},
   "outputs": [
    {
     "name": "stdout",
     "output_type": "stream",
     "text": [
      "1.4953487812212205\n"
     ]
    }
   ],
   "source": [
    "#Lets take a number\n",
    "\n",
    "r= 5\n",
    "\n",
    "Fourth_root= r**(1/4)\n",
    "\n",
    "print(Fourth_root)"
   ]
  },
  {
   "cell_type": "markdown",
   "metadata": {},
   "source": [
    "Question 3:\n",
    "Write a program to swap two numbers in Python with the help of a temporary variable."
   ]
  },
  {
   "cell_type": "code",
   "execution_count": 10,
   "metadata": {},
   "outputs": [
    {
     "name": "stdout",
     "output_type": "stream",
     "text": [
      "Value of x: 2\n",
      "Value of y: 1\n"
     ]
    }
   ],
   "source": [
    "# Python program to demonstrate \n",
    "# swapping of two variables \n",
    "  \n",
    "x = 1\n",
    "y = 2\n",
    "  \n",
    "# Swapping of two variables \n",
    "# Using third variable \n",
    "temp = x \n",
    "x = y \n",
    "y = temp \n",
    "  \n",
    "print(\"Value of x:\", x) \n",
    "print(\"Value of y:\", y) "
   ]
  },
  {
   "cell_type": "markdown",
   "metadata": {},
   "source": [
    "Question 4\n",
    "Write a program to swap two numbers in Python without using a temporary variable."
   ]
  },
  {
   "cell_type": "code",
   "execution_count": 12,
   "metadata": {},
   "outputs": [
    {
     "name": "stdout",
     "output_type": "stream",
     "text": [
      "Before swapping: \n",
      "Value of x :  88  and y :  99\n",
      "After swapping: \n",
      "Value of x :  99  and y :  88\n"
     ]
    }
   ],
   "source": [
    "# Python code to swap two numbers \n",
    "# without using another variable \n",
    "  \n",
    "  \n",
    "x = 88\n",
    "y = 99\n",
    "  \n",
    "print (\"Before swapping: \") \n",
    "print(\"Value of x : \", x, \" and y : \", y) \n",
    "  \n",
    "# code to swap 'x' and 'y' \n",
    "x, y = y, x \n",
    "  \n",
    "print (\"After swapping: \") \n",
    "print(\"Value of x : \", x, \" and y : \", y)"
   ]
  },
  {
   "cell_type": "markdown",
   "metadata": {},
   "source": [
    "Question 5:\n",
    "Write a program to convert fahrenheit to kelvin and celsius both."
   ]
  },
  {
   "cell_type": "code",
   "execution_count": 30,
   "metadata": {},
   "outputs": [
    {
     "name": "stdout",
     "output_type": "stream",
     "text": [
      "Enter temperature in Fahrenheit : 45\n",
      " \n",
      "Fahrenheit to celsius conversation, We get a temperature 7.222222222222222 celsius\n",
      "\n",
      "Fahrenheit to Kelvin conversation, We get a temperature 280.22222222222223 Kelvin\n"
     ]
    }
   ],
   "source": [
    "fah= input(\"Enter temperature in Fahrenheit : \")\n",
    "result_celsius = 5/9*(float(fah) - 32)\n",
    "result_kelvin = 5/9*(float(fah) - 32) + 273\n",
    "print(\" \")\n",
    "print(\"Fahrenheit to celsius conversation, We get a temperature {} celsius\".format(result_celsius))\n",
    "print(\"\")\n",
    "print(\"Fahrenheit to Kelvin conversation, We get a temperature {} Kelvin\".format(result_kelvin))"
   ]
  },
  {
   "cell_type": "markdown",
   "metadata": {},
   "source": [
    "Question 6:\n",
    "Write a program to demonstrate all the available data types in Python. Hint: Use type() function."
   ]
  },
  {
   "cell_type": "code",
   "execution_count": 44,
   "metadata": {},
   "outputs": [
    {
     "name": "stdout",
     "output_type": "stream",
     "text": [
      "Data type of a is <class 'int'>\n",
      "Data type of v is <class 'float'>\n",
      "Data type of b is <class 'complex'>\n",
      "Data type of c is <class 'str'>\n",
      "Data type of d is <class 'list'>\n",
      "Data type of e is <class 'tuple'>\n",
      "Data type of f is <class 'dict'>\n"
     ]
    }
   ],
   "source": [
    "#checking individually the types of data\n",
    "\n",
    "a= 10\n",
    "print(\"Data type of a is\",type(a)) #here we are checking the type of a which is int means integer\n",
    "\n",
    "v= 5.2222\n",
    "print(\"Data type of v is\", type(v)) #float value\n",
    "\n",
    "b= 3+3j\n",
    "print(\"Data type of b is\", type(b)) #here we will se anothe rtype of datatype which is complex number.\n",
    "\n",
    "c= \"Hello Dushant Kumar\"\n",
    "print(\"Data type of c is\", type(c)) #which is string(str)\n",
    "\n",
    "d= [1,2,3,\"gh\"]\n",
    "print(\"Data type of d is\", type(d)) #which is list\n",
    "\n",
    "e= (1,2,3,5,8)\n",
    "print(\"Data type of e is\", type(e)) #which is tuple\n",
    "\n",
    "f= {\"a\":12,\"b\":13}\n",
    "print(\"Data type of f is\", type(f)) #which is dict"
   ]
  },
  {
   "cell_type": "markdown",
   "metadata": {},
   "source": [
    "Question 7:\n",
    "Create a Markdown cell in jupyter and list the steps discussed in the session by Dr. Darshan\n",
    "Ingle sir to create Github profile and upload Githubs Assignment link.\n",
    "\n",
    "How to submit Assignments?\n",
    "\n",
    "1-Create a Github public repo and name it LetsUpgrade AI/ML\n",
    "2-Upload the files/solution in the repo in day wise manner like Day 1 and Day 2....\n",
    "3-Copy the URL of the Folder of that day and paste in the Assignment Submission Form (Google Form)\n",
    "4-Make sure you are filling correct details in the Assignment Submission Form."
   ]
  }
 ],
 "metadata": {
  "kernelspec": {
   "display_name": "Python 3",
   "language": "python",
   "name": "python3"
  },
  "language_info": {
   "codemirror_mode": {
    "name": "ipython",
    "version": 3
   },
   "file_extension": ".py",
   "mimetype": "text/x-python",
   "name": "python",
   "nbconvert_exporter": "python",
   "pygments_lexer": "ipython3",
   "version": "3.7.8"
  }
 },
 "nbformat": 4,
 "nbformat_minor": 4
}
